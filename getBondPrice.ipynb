{
 "cells": [
  {
   "cell_type": "code",
   "execution_count": 3,
   "metadata": {},
   "outputs": [
    {
     "name": "stdout",
     "output_type": "stream",
     "text": [
      "bond price：$2,170,604.06\n"
     ]
    }
   ],
   "source": [
    "import numpy as np\n",
    "\n",
    "def getBondPrice(y, face, couponRate, m, ppy=1):\n",
    "    # calculate each time coupon payment amount\n",
    "    C = face * couponRate / ppy\n",
    "    # total number of payments\n",
    "    T = m * ppy\n",
    "    # discount factors\n",
    "    discount_factors = (1 + y / ppy) ** np.arange(1, T + 1)\n",
    "    # discounted coupon amount\n",
    "    coupon_pv = C / discount_factors\n",
    "    # discounted face value\n",
    "    face_pv = face / (1 + y / ppy) ** T\n",
    "    # sum of all cash flows\n",
    "    price = np.sum(coupon_pv) + face_pv\n",
    "    return price\n",
    "\n",
    "# test value\n",
    "y = 0.03  # YTM\n",
    "face = 2000000  # face value\n",
    "couponRate = 0.04  # coupon rate\n",
    "m = 10  # maturity\n",
    "ppy = 1  # payment per year\n",
    "\n",
    "# use function and print\n",
    "bond_price = getBondPrice(y, face, couponRate, m, ppy)\n",
    "print(f\"bond price：${bond_price:,.2f}\")\n"
   ]
  }
 ],
 "metadata": {
  "kernelspec": {
   "display_name": ".venv",
   "language": "python",
   "name": "python3"
  },
  "language_info": {
   "codemirror_mode": {
    "name": "ipython",
    "version": 3
   },
   "file_extension": ".py",
   "mimetype": "text/x-python",
   "name": "python",
   "nbconvert_exporter": "python",
   "pygments_lexer": "ipython3",
   "version": "3.13.2"
  }
 },
 "nbformat": 4,
 "nbformat_minor": 2
}
