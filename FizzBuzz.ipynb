{
 "cells": [
  {
   "cell_type": "code",
   "execution_count": 2,
   "metadata": {},
   "outputs": [
    {
     "name": "stdout",
     "output_type": "stream",
     "text": [
      "[46 47 'fizz' 49 'buzz' 'fizz' 52 53 'fizz' 'buzz' 56 'fizz' 58 59\n",
      " 'fizzbuzz']\n"
     ]
    }
   ],
   "source": [
    "import numpy as np\n",
    "\n",
    "def FizzBuzz(start, finish):\n",
    "    # create NumPy vector，dtype=object\n",
    "    numvec = np.arange(start, finish + 1)\n",
    "    objvec = np.array(numvec, dtype=object)\n",
    "    \n",
    "    # Vectorized Conditions\n",
    "    fizz_mask = (numvec % 3 == 0)\n",
    "    buzz_mask = (numvec % 5 == 0)\n",
    "    fizzbuzz_mask = (fizz_mask & buzz_mask)\n",
    "    \n",
    "    # refresh objvec vectors based on different conditions\n",
    "    objvec[fizzbuzz_mask] = \"fizzbuzz\"\n",
    "    objvec[buzz_mask & ~fizzbuzz_mask] = \"buzz\"\n",
    "    objvec[fizz_mask & ~fizzbuzz_mask] = \"fizz\"\n",
    "    \n",
    "    return objvec\n",
    "\n",
    "# test value\n",
    "start = 46\n",
    "finish = 60\n",
    "\n",
    "# use function and print results\n",
    "result = FizzBuzz(start, finish)\n",
    "print(result)\n"
   ]
  }
 ],
 "metadata": {
  "kernelspec": {
   "display_name": ".venv",
   "language": "python",
   "name": "python3"
  },
  "language_info": {
   "codemirror_mode": {
    "name": "ipython",
    "version": 3
   },
   "file_extension": ".py",
   "mimetype": "text/x-python",
   "name": "python",
   "nbconvert_exporter": "python",
   "pygments_lexer": "ipython3",
   "version": "3.13.2"
  }
 },
 "nbformat": 4,
 "nbformat_minor": 2
}
