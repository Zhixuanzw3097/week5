{
 "cells": [
  {
   "cell_type": "code",
   "execution_count": 3,
   "metadata": {},
   "outputs": [
    {
     "name": "stdout",
     "output_type": "stream",
     "text": [
      "Bond Duration：8.51\n"
     ]
    }
   ],
   "source": [
    "import numpy as np\n",
    "\n",
    "def getBondDuration(y, face, couponRate, m, ppy=1):\n",
    "    # calculate each coupon payment amount\n",
    "    C = face * couponRate / ppy\n",
    "    # total number of payments\n",
    "    T = m * ppy\n",
    "    \n",
    "    # calculate discount factors\n",
    "    discount_factors = (1 + y / ppy) ** np.arange(1, T + 1)\n",
    "    \n",
    "    # calculate cash flows\n",
    "    cash_flows = np.full(T, C)\n",
    "    cash_flows[-1] += face\n",
    "    \n",
    "    # discounted cash flows\n",
    "    pv_cf = cash_flows / discount_factors\n",
    "    \n",
    "    # calculate bond price\n",
    "    bond_price = np.sum(pv_cf)\n",
    "    \n",
    "    # calculate weights of cash flow\n",
    "    weights = pv_cf / bond_price\n",
    "    \n",
    "    # calculate duration\n",
    "    time_periods = np.arange(1, T + 1)\n",
    "    duration = np.sum(time_periods * weights)\n",
    "    \n",
    "    return duration\n",
    "\n",
    "# test value\n",
    "y = 0.03  # YTM\n",
    "face = 2000000  # face value\n",
    "couponRate = 0.04  # coupon rate\n",
    "m = 10  # maturity\n",
    "ppy = 1  # payment per year\n",
    "\n",
    "# use function and print\n",
    "duration = getBondDuration(y, face, couponRate, m, ppy)\n",
    "print(f\"Bond Duration：{duration:.2f}\")\n"
   ]
  }
 ],
 "metadata": {
  "kernelspec": {
   "display_name": ".venv",
   "language": "python",
   "name": "python3"
  },
  "language_info": {
   "codemirror_mode": {
    "name": "ipython",
    "version": 3
   },
   "file_extension": ".py",
   "mimetype": "text/x-python",
   "name": "python",
   "nbconvert_exporter": "python",
   "pygments_lexer": "ipython3",
   "version": "3.13.2"
  }
 },
 "nbformat": 4,
 "nbformat_minor": 2
}
